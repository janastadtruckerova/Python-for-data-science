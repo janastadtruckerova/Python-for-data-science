{
  "nbformat": 4,
  "nbformat_minor": 0,
  "metadata": {
    "colab": {
      "provenance": []
    },
    "kernelspec": {
      "name": "python3",
      "display_name": "Python 3"
    },
    "language_info": {
      "name": "python"
    }
  },
  "cells": [
    {
      "cell_type": "code",
      "execution_count": null,
      "metadata": {
        "id": "Gt5qIlWzrdgz"
      },
      "outputs": [],
      "source": []
    },
    {
      "cell_type": "markdown",
      "source": [
        "# Global AI Job Market & Salary Trends 2025\n",
        "\n",
        "## Úvod\n",
        "\n",
        "V tomto projekte sa zmeriavame na  hĺbkovú analýzu globálneho trhu práce v oblasti umelej inteligencie (AI) a strojového učenia (ML), s osobitným dôrazom na mzdové trendy a dopyt po AI/ML pozíciách. Využívame  komplexný dataset z Kaggle pozaozstávajúci z údajov o mzdách, úrovni praxe, zručnostiach z viac ako 50 krajín.  Cieľom projektu  je poskytnúť prehľad o dynamike tohto rýchlo  rastúceho odvetvia v roku 2025.\n",
        "\n",
        "Dataset : https://www.kaggle.com/datasets/bismasajjad/global-ai-job-market-and-salary-trends-2025\n",
        "\n",
        "**Kľúčové ciele projektu:**\n",
        "* **Analýza miezd:** Identifikovať priemerné mzdy pre rôzne   AI/ML pozície,  podľa dĺžky skúseností, veľkosi spoločnosti a krajín.\n",
        "* **Analýza dopytu:** Zistiť, ktoré AI/ML pozície a zručnosti sú na trhu najžiadanejšie.\n",
        "* **Vplyv faktorov:** Preskúmať, ako faktory ako úroveň skúseností, veľkosť spoločnosti a typ práce (remote/on-site/hybrid) ovplyvňujú mzdové ohodnotenie a dopyt.\n",
        "* **Geografická analýza:** Odhaliť regionálne rozdiely v platoch a dopyte po AI/ML profesionáloch.\n",
        "\n",
        "V tejto analýze kladieme veľký dôraz na precízne čistenie dát pomocou Pandas a efektívne vizualizácie pre jasnú komunikáciu  našich zistení."
      ],
      "metadata": {
        "id": "oLXMSOSUrjjf"
      }
    },
    {
      "cell_type": "markdown",
      "source": [
        "## 1. Nastavenie Prostredia a Import Knižníc\n",
        "\n",
        "V tejto sekcii importujeme všetky potrebné knižnice Pythonu, ktoré nám umožnia manipulovať s dátami (`pandas`, `numpy`) a vytvárať vizualizácie (`matplotlib`, `seaborn`). Zároveň nastavíme základné parametre pre konzistentný a atraktívny vzhľad našich grafov."
      ],
      "metadata": {
        "id": "El5uMC0SsEfp"
      }
    },
    {
      "cell_type": "code",
      "source": [
        "import pandas as pd\n",
        "import numpy as np\n",
        "import matplotlib.pyplot as plt\n",
        "import seaborn as sns\n",
        "from collections import Counter # Pre analýzu zručností\n",
        "\n",
        "# Nastavenie štýlu pre grafy\n",
        "sns.set_style(\"whitegrid\")\n",
        "plt.rcParams['figure.figsize'] = (12, 7)\n",
        "plt.rcParams['font.size'] = 12\n",
        "plt.rcParams['axes.labelsize'] = 14\n",
        "plt.rcParams['axes.titlesize'] = 16\n",
        "plt.rcParams['xtick.labelsize'] = 12\n",
        "plt.rcParams['ytick.labelsize'] = 12"
      ],
      "metadata": {
        "id": "O9ecI2rqr91M"
      },
      "execution_count": null,
      "outputs": []
    },
    {
      "cell_type": "markdown",
      "source": [
        "## 2. Načítanie Dát\n",
        "\n",
        "Dáta pre tento projekt boli získané z platformy Kaggle, konkrétne zo datasetu **\"Global AI Job Market and Salary Trends 2025\"** (od autora bismasajjad). Dataset obsahuje detailné informácie o pozíciách, platoch a trhových trendoch z viac ako 50 krajín v oblasti AI.\n"
      ],
      "metadata": {
        "id": "XcUjVWWtsbaL"
      }
    },
    {
      "cell_type": "code",
      "source": [
        "# Načítanie datasetu\n",
        "df = pd.read_csv(\"ai_job.csv\")"
      ],
      "metadata": {
        "id": "YG9ZiYLvsjvi"
      },
      "execution_count": null,
      "outputs": []
    },
    {
      "cell_type": "markdown",
      "source": [
        "## 3. Preskúmanie Dát (EDA) a Čistenie\n",
        "\n",
        "Kvalita vstupných dát je rozhodujúca pre spoľahlivosť analýzy. V tejto fáze vykonáme dôkladné preskúmanie štruktúry dát, typov premenných, chýbajúcich hodnôt a potenciálnych anomálií. Následne vykonáme cielené čistenie a transformácie na základe poskytnutých informácií o stĺpcoch.\n",
        "\n",
        "**Kroky EDA a Čistenia:**\n",
        "1.  **Základné informácie:** `df.head()`, `df.info()`, `df.describe()`.\n",
        "2.  **Chýbajúce hodnoty:** Identifikácia a riešenie.\n",
        "3.  **Normalizácia kategorických stĺpcov:** Mapovanie skratiek na čitateľné textové hodnoty (`experience_level`, `company_size`, `remote_ratio`).\n",
        "4.  **Dátumové stĺpce:** Konverzia na dátumový formát.\n",
        "5.  **Analýza `required_skills`:** Príprava na analýzu dopytu po zručnostiach."
      ],
      "metadata": {
        "id": "1Qh698bDszS9"
      }
    },
    {
      "cell_type": "code",
      "source": [
        "# Základné informácie o datasete\n",
        "print(\"Prvých 5 riadkov DataFrame:\")\n",
        "print(df.head())\n",
        "\n",
        "print(\"\\nInformácie o DataFrame (stĺpce, typy dát, non-null hodnoty):\")\n",
        "print(df.info())\n",
        "\n",
        "print(\"\\nDeskriptívna štatistika pre numerické stĺpce:\")\n",
        "print(df.describe())\n",
        "\n",
        "print(\"\\nKontrola chýbajúcich hodnôt pred čistením:\")\n",
        "print(df.isnull().sum())\n",
        "\n",
        "# --- Dátové čistenie a transformácie na základe popisu stĺpcov ---\n",
        "\n",
        "\n",
        "# 1. Mapovanie 'experience_level' pre lepšiu čitateľnosť\n",
        "experience_mapping = {\n",
        "    'EN': 'Entry-level',\n",
        "    'MI': 'Mid-level',\n",
        "    'SE': 'Senior-level',\n",
        "    'EX': 'Executive-level'\n",
        "}\n",
        "df['experience_level_full'] = df['experience_level'].map(experience_mapping)\n",
        "print(\"\\nStĺpec 'experience_level' bol premapovaný na čitateľné názvy.\")\n",
        "print(df[['experience_level', 'experience_level_full']].head())\n",
        "\n",
        "\n",
        "# 2. Mapovanie 'company_size' pre lepšiu čitateľnosť\n",
        "company_size_mapping = {\n",
        "    'S': 'Small (<50)',\n",
        "    'M': 'Medium (50-250)',\n",
        "    'L': 'Large (>250)'\n",
        "}\n",
        "df['company_size_full'] = df['company_size'].map(company_size_mapping)\n",
        "print(\"\\nStĺpec 'company_size' bol premapovaný na čitateľné názvy.\")\n",
        "print(df[['company_size', 'company_size_full']].head())\n",
        "\n",
        "\n",
        "# 4. Mapovanie 'remote_ratio' pre lepšiu čitateľnosť\n",
        "remote_mapping = {\n",
        "    0: 'No Remote',\n",
        "    50: 'Hybrid',\n",
        "    100: 'Fully Remote'\n",
        "}\n",
        "df['remote_status'] = df['remote_ratio'].map(remote_mapping)\n",
        "print(\"\\nStĺpec 'remote_ratio' bol premapovaný na čitateľné názvy.\")\n",
        "print(df[['remote_ratio', 'remote_status']].head())\n",
        "\n",
        "\n",
        "# 4. Konverzia dátumových stĺpcov na datetime objekty\n",
        "if 'posting_date' in df.columns:\n",
        "    df['posting_date'] = pd.to_datetime(df['posting_date'], errors='coerce')\n",
        "    print(\"\\nStĺpec 'posting_date' bol skonvertovaný na dátumový typ.\")\n",
        "if 'application_deadline' in df.columns:\n",
        "    df['application_deadline'] = pd.to_datetime(df['application_deadline'], errors='coerce')\n",
        "    print(\"Stĺpec 'application_deadline' bol skonvertovaný na dátumový typ.\")\n",
        "\n",
        "\n",
        "# 5. Kontrola a riešenie chýbajúcich hodnôt po transformáciách\n",
        "print(\"\\nKontrola chýbajúcich hodnôt po transformáciách:\")\n",
        "print(df.isnull().sum())\n",
        "\n",
        "# Pre kľúčové stĺpce, kde chýbajúce hodnoty narúšajú analýzu, ich môžeme odstrániť\n",
        "# Napr. ak chýba mzda alebo názov pozície, takýto záznam nie je pre analýzu užitočný\n",
        "df.dropna(subset=['salary_usd', 'job_title', 'experience_level_full', 'company_size_full', 'remote_status', 'company_location'], inplace=True)\n",
        "print(\"\\nDataFrame po odstránení riadkov s chýbajúcimi hodnotami v kľúčových stĺpcoch.\")\n",
        "print(df.info())\n",
        "print(\"\\n DataFrame po čistení a transformácii (prvých 5 riadkov):\")\n",
        "print(df.head())"
      ],
      "metadata": {
        "id": "Irq8xTXws8-1"
      },
      "execution_count": null,
      "outputs": []
    },
    {
      "cell_type": "code",
      "source": [
        "# Popisná štatistika\n",
        "print(\"\\nDeskriptívna štatistika pre numerické stĺpce:\")\n",
        "print(df.describe())"
      ],
      "metadata": {
        "id": "6ZDTRToG0uar"
      },
      "execution_count": null,
      "outputs": []
    },
    {
      "cell_type": "markdown",
      "source": [
        "## 4. Analýza Mzdových Trendov\n",
        "\n",
        "Táto sekcia sa zameria na priemerné mzdy v rôznych segementoch trhu AI. Preskúmame, ako sa líšia platy pre rôzne AI/ML pozície, úrovne skúseností, veľkosti spoločností, typ práce (remote/hybrid/on-site) a pre vybrané krajiny."
      ],
      "metadata": {
        "id": "27F9eDk8ti3r"
      }
    },
    {
      "cell_type": "code",
      "source": [
        "# Definujeme poradie pre Experience Level a Company Size pre konzistentné grafy\n",
        "experience_order = ['Entry-level', 'Mid-level', 'Senior-level', 'Executive-level']\n",
        "company_size_order = ['Small (<50)', 'Medium (50-250)', 'Large (>250)']\n",
        "\n",
        "# Priemerné mzdy podľa Job Title (Top 15)\n",
        "avg_salary_by_job = df.groupby('job_title')['salary_usd'].mean().nlargest(15).sort_values(ascending=True)\n",
        "plt.figure(figsize=(12, 8))\n",
        "sns.barplot(x=avg_salary_by_job.values, y=avg_salary_by_job.index, palette='viridis')\n",
        "plt.title('Top 15 pozícií v AI podľa priemernej mzdy  (USD)')\n",
        "plt.xlabel('Priemerná Ročná Mzda (USD)')\n",
        "plt.ylabel('Pozícia')\n",
        "plt.show()\n",
        "\n",
        "# Priemerné mzdy podľa Experience Level\n",
        "avg_salary_by_experience = df.groupby('experience_level_full')['salary_usd'].mean().reindex(experience_order)\n",
        "plt.figure(figsize=(10, 6))\n",
        "sns.barplot(x=avg_salary_by_experience.index, y=avg_salary_by_experience.values, palette='magma')\n",
        "plt.title('Priemerné Mzdy v AI podľa Úrovne Skúseností (USD)')\n",
        "plt.xlabel('Úroveň Skúseností')\n",
        "plt.ylabel('Priemerná Ročná Mzda (USD)')\n",
        "plt.show()\n",
        "\n"
      ],
      "metadata": {
        "id": "MpsKNSTgtmoj"
      },
      "execution_count": null,
      "outputs": []
    },
    {
      "cell_type": "code",
      "source": [
        "# Priemerné mzdy podľa Company Size\n",
        "avg_salary_by_company_size = df.groupby('company_size_full')['salary_usd'].mean().reindex(company_size_order)\n",
        "plt.figure(figsize=(10, 6))\n",
        "sns.barplot(x=avg_salary_by_company_size.index, y=avg_salary_by_company_size.values, palette='plasma')\n",
        "plt.title('Priemerné Mzdy v AI podľa Veľkosti Spoločnosti (USD)')\n",
        "plt.xlabel('Veľkosť Spoločnosti')\n",
        "plt.ylabel('Priemerná Ročná Mzda (USD)')\n",
        "plt.show()\n",
        "\n",
        "# Priemerné mzdy podľa Remote Statusu\n",
        "avg_salary_by_remote = df.groupby('remote_status')['salary_usd'].mean().sort_values(ascending=False) # Prípadne order=['Fully Remote', 'Hybrid', 'No Remote']\n",
        "plt.figure(figsize=(10, 6))\n",
        "sns.barplot(x=avg_salary_by_remote.index, y=avg_salary_by_remote.values, palette='rocket')\n",
        "plt.title('Priemerné Mzdy v AI podľa Typu Práce (USD)')\n",
        "plt.xlabel('Typ Práce')\n",
        "plt.ylabel('Priemerná Ročná Mzda (USD)')\n",
        "plt.show()"
      ],
      "metadata": {
        "id": "JGq4vdMy2euW"
      },
      "execution_count": null,
      "outputs": []
    },
    {
      "cell_type": "code",
      "source": [
        "\n",
        "# Priemerné mzdy podľa Krajiny (Top 15)\n",
        "avg_salary_by_country = df.groupby('company_location')['salary_usd'].mean().nlargest(15).sort_values(ascending=True)\n",
        "plt.figure(figsize=(12, 8))\n",
        "sns.barplot(x=avg_salary_by_country.values, y=avg_salary_by_country.index, palette='cividis')\n",
        "plt.title('Top 15 Krajín podľa Priemernej Mzdy v AI (USD)')\n",
        "plt.xlabel('Priemerná Ročná Mzda (USD)')\n",
        "plt.ylabel('Krajina (Umiestnenie Spoločnosti)')\n",
        "plt.show()\n",
        "\n",
        "# Rozdelenie miezd (Histogram)\n",
        "plt.figure(figsize=(10, 6))\n",
        "sns.histplot(df['salary_usd'], bins=50, kde=True, color='skyblue')\n",
        "plt.title('Distribúcia miezd v AI (USD)')\n",
        "plt.xlabel('Ročná Mzda (USD)')\n",
        "plt.ylabel('Frekvencia')\n",
        "plt.show()"
      ],
      "metadata": {
        "id": "5CeHXvEV2gyO"
      },
      "execution_count": null,
      "outputs": []
    },
    {
      "cell_type": "markdown",
      "source": [
        "## 5. Analýza Trendov na Trhu Práce (Dopyt)\n",
        "\n",
        "Okrem miezd je kľúčové pochopiť aj dopyt po AI/ML pracovníkoch. V tejto sekcii preskúmame frekvenciu rôznych pracovných pozícií, úrovní skúseností, veľkostí firiem a typov práce, čo nám umožní pochopiť, ktoré pozície sú na trhu najžiadanejšie. Zameriame sa aj na analýzu najžiadanejších zručností."
      ],
      "metadata": {
        "id": "hGRWSclGt4IY"
      }
    },
    {
      "cell_type": "code",
      "source": [
        "# Počet pozícií podľa Job Title (Top 15)\n",
        "job_title_counts = df['job_title'].value_counts().nlargest(15).sort_values(ascending=True)\n",
        "plt.figure(figsize=(12, 8))\n",
        "sns.barplot(x=job_title_counts.values, y=job_title_counts.index, palette='mako')\n",
        "plt.title('Top 15 Najčastejších Pozícií v AI')\n",
        "plt.xlabel('Počet Ponúk')\n",
        "plt.ylabel('Pozícia')\n",
        "plt.show()\n",
        "\n",
        "# Počet pozícií podľa Experience Level\n",
        "experience_counts = df['experience_level_full'].value_counts().reindex(experience_order)\n",
        "plt.figure(figsize=(10, 6))\n",
        "sns.barplot(x=experience_counts.index, y=experience_counts.values, palette='rocket')\n",
        "plt.title('Dopyt po AI Pozíciách podľa Úrovne Skúseností')\n",
        "plt.xlabel('Úroveň Skúseností')\n",
        "plt.ylabel('Počet Pozícií')\n",
        "plt.show()\n",
        "\n",
        "# Počet pozícií podľa Company Size\n",
        "company_size_counts = df['company_size_full'].value_counts().reindex(company_size_order)\n",
        "plt.figure(figsize=(10, 6))\n",
        "sns.barplot(x=company_size_counts.index, y=company_size_counts.values, palette='crest')\n",
        "plt.title('Dopyt po AI Pozíciách podľa Veľkosti Spoločnosti')\n",
        "plt.xlabel('Veľkosť Spoločnosti')\n",
        "plt.ylabel('Počet Pozícií')\n",
        "plt.show()\n",
        "\n",
        "# Počet pozícií podľa Remote Statusu\n",
        "remote_counts = df['remote_status'].value_counts().sort_values(ascending=False)\n",
        "plt.figure(figsize=(10, 6))\n",
        "sns.barplot(x=remote_counts.index, y=remote_counts.values, palette='viridis_r')\n",
        "plt.title('Dopyt po AI Pozíciách podľa Typu Práce')\n",
        "plt.xlabel('Typ Práce')\n",
        "plt.ylabel('Počet Pozícií')\n",
        "plt.show()\n",
        "\n",
        "# Analýza najžiadanejších zručností (required_skills)\n",
        "# Prvá úprava: zabezpečiť, aby neboli NaN hodnoty a potom rozdelíme reťazce\n",
        "df['required_skills_processed'] = df['required_skills'].dropna().apply(lambda x: [skill.strip() for skill in x.split(',')])\n",
        "all_skills = [skill for sublist in df['required_skills_processed'] for skill in sublist]\n",
        "top_skills = Counter(all_skills).most_common(20) # Top 20 zručností\n",
        "\n",
        "plt.figure(figsize=(12, 8))\n",
        "sns.barplot(x=[count for skill, count in top_skills], y=[skill for skill, count in top_skills], palette='cubehelix')\n",
        "plt.title('Top 20 Najžiadanejších Zručností v AI')\n",
        "plt.xlabel('Počet Výskytov')\n",
        "plt.ylabel('Zručnosť')\n",
        "plt.show()"
      ],
      "metadata": {
        "id": "uvptVCZDuBKr"
      },
      "execution_count": null,
      "outputs": []
    },
    {
      "cell_type": "markdown",
      "source": [
        "## 6. Hĺbková Analýza Vzťahov a Časové Trendy\n",
        "\n",
        "Táto sekcia sa zameria na komplexnejšie vzťahy medzi viacerými premennými a preskúma časový vývoj trendov, ak sú dostupné ročné dáta."
      ],
      "metadata": {
        "id": "W8GMRspSudmM"
      }
    },
    {
      "cell_type": "code",
      "source": [
        "\n",
        "\n",
        "# Analýza časových trendov (ak je k dispozícii stĺpec 'posting_date' a roky sú rozmanité)\n",
        "# Ak by bolo potrebné extrahovať rok zo stĺpca 'posting_date'\n",
        "df['year'] = df['posting_date'].dt.year\n",
        "\n",
        "if 'year' in df.columns and len(df['year'].unique()) > 1: # Skontrolujte, či sú viac ako jeden rok\n",
        "    avg_salary_by_year = df.groupby('year')['salary_usd'].mean()\n",
        "    plt.figure(figsize=(10, 6))\n",
        "    sns.lineplot(x=avg_salary_by_year.index, y=avg_salary_by_year.values, marker='o', color='purple')\n",
        "    plt.title('Vývoj Priemernej Mzdy v AI 2024-2025 (USD)')\n",
        "    plt.xlabel('Rok')\n",
        "    plt.ylabel('Priemerná Ročná Mzda (USD)')\n",
        "    plt.grid(True, linestyle='--', alpha=0.6)\n",
        "    plt.show()\n",
        "else:\n",
        "    print(\"Nedostatočné časové dáta pre analýzu trendov v čase.\")"
      ],
      "metadata": {
        "id": "J3DIBEm7up2u"
      },
      "execution_count": null,
      "outputs": []
    },
    {
      "cell_type": "code",
      "source": [
        "## 6.1 Analýza Korelácií medzi Numerickými Premennými\n",
        "\n",
        "print(\"\\n--- Korelačná Matica Numerických Stĺpcov ---\")\n",
        "# Vyberieme len numerické stĺpce pre koreláciu\n",
        "# df.select_dtypes(include=np.number) vyberie všetky numerické stĺpce,\n",
        "# čo je robustnejšie ako ručné vymenovanie\n",
        "numeric_df = df.select_dtypes(include=np.number)\n",
        "\n",
        "# Vypočítame korelačnú maticu\n",
        "correlation_matrix = numeric_df.corr()\n",
        "print(correlation_matrix)\n",
        "\n",
        "# Vizualizácia korelačnej matice pomocou heatmapy\n",
        "plt.figure(figsize=(10, 8))\n",
        "sns.heatmap(correlation_matrix, annot=True, cmap='coolwarm', fmt=\".2f\", linewidths=.5)\n",
        "plt.title('Korelačná Matica Numerických Premenných')\n",
        "plt.show()\n",
        "\n",
        "# Zameranie sa na korelácie so salary_usd (ak existuje)\n",
        "if 'salary_usd' in correlation_matrix.columns:\n",
        "    print(\"\\n--- Korelácia so Salary_USD ---\")\n",
        "    print(correlation_matrix['salary_usd'].sort_values(ascending=False))"
      ],
      "metadata": {
        "id": "J5sPA8wAlza4"
      },
      "execution_count": null,
      "outputs": []
    },
    {
      "cell_type": "markdown",
      "source": [
        "### Interpretácia Korelačnej Matice:\n",
        "\n",
        "Korelačná matica a detailná analýza korelácie so `salary_usd` odhalila kľúčové vzťahy medzi numerickými premennými:\n",
        "\n",
        "* **Skúsenosti (`years_experience`) a Mzda (`salary_usd`):** Zistená silná pozitívna korelácia (približne 0.74) potvrdzuje, že **roky skúseností sú najvýznamnejším numerickým faktorom ovplyvňujúcim výšku mzdy** v AI sektore. Čím viac skúseností, tým vyššie je platové ohodnotenie.\n",
        "* **Vzdialenosť práce (`remote_ratio`) a Mzda:** Korelácia je takmer nulová (približne 0.01). To podporuje predchádzajúce zistenie, že **forma práce (či už plne vzdialená, hybridná, alebo on-site) nemá výrazný lineárny vplyv na výšku mzdy**, čo je pre mnohých profesionálov dôležitý poznatok o flexibilite AI trhu.\n",
        "* **Dĺžka popisu práce (`job_description_length`) a Mzda:** Korelácia je tiež blízka nule (približne -0.009). Naznačuje to, že **dĺžka popisu práce nie je spojená s výškou mzdy**.\n",
        "* **Skóre benefitov (`benefits_score`) a Mzda:** S takmer nulovou koreláciou (približne 0.001) sa ukázalo, že **skóre benefitov priamo nekoreluje s výškou mzdy**. To je prekvapivé a naznačuje, že spoločnosti ponúkajúce vyššie mzdy nemusia nutne mať aj najvyššie hodnotené benefity, alebo naopak.\n",
        "* **Rok (`year`) a Mzda:** Korelácia je veľmi nízka (približne 0.006), čo ukazuje, že **celkový medziročný nárast miezd medzi 2024 a 2025 je mierny** a nie je silným lineárnym prediktorom mzdy v tomto krátkom časovom horizonte."
      ],
      "metadata": {
        "id": "_ztKV02EpxEj"
      }
    },
    {
      "cell_type": "markdown",
      "source": [
        "## 7. Kľúčové Zistenia a Záver\n",
        "\n",
        "Táto komplexná analýza globálneho trhu práce a mzdových trendov v oblasti umelej inteligencie (AI) a strojového učenia (ML) pre roky 2024 a 2025 odhalila dôležité vzorce a poznatky, ktoré môžu byť cenné pre profesionálov, študentov a firmy.\n",
        "\n",
        "**Hlavné závery zahŕňajú:**\n",
        "\n",
        "* **Trendy v mzdách v AI:**\n",
        "    * Sektor AI je celkovo vysoko lukratívny. Aj keď existujú drobné rozdiely medzi špičkovými pozíciami, všetky sú veľmi dobre ohodnotené.\n",
        "    * **Skúsenosti sú kľúčové pre mzdu:** Zistená silná pozitívna korelácia medzi rokmi skúseností a mzdou potvrdzuje, že **investícia do praxe sa v tomto odvetví výrazne vypláca**.\n",
        "    * Väčšie firmy ponúkajú vyššie mzdy, a to najmä pri prechode zo stredných na veľké firmy. Rozdiel v priemerných mzdách medzi malými/strednými a veľkými firmami je výrazný.\n",
        "    * **Poloha a forma práce (remote vs. on-site) nemajú taký výrazný vplyv na kompenzáciu.** Korelačná analýza potvrdila takmer nulový vzťah medzi `remote_ratio` a mzdou, čo je veľmi pozitívny signál pre záujemcov o flexibilné pracovné podmienky.\n",
        "    * Geografická lokalita má významný vplyv na potenciál zárobku v AI, pričom krajiny ako Švajčiarsko, Nórsko a Dánsko vykazujú najvyššie priemerné mzdy.\n",
        "    * **Prekvapujúce nekorelované faktory:** Zatiaľ čo sa očakáva, že určité faktory ovplyvnia mzdy, analýza ukázala, že `benefits_score` a `job_description_length` nemajú žiadny lineárny vzťah s výškou mzdy.\n",
        "\n",
        "* **Trendy v dopyte na trhu práce v AI:**\n",
        "    * **Všeobecný vysoký dopyt:** Sektor AI vykazuje silný a široký dopyt naprieč rôznymi špecializáciami, pričom dopyt po top pozíciách je porovnateľný.\n",
        "    * **Príležitosti pre všetky úrovne:** Trh je otvorený pre talenty na všetkých úrovniach skúseností, vrátane tých na začiatku kariéry, čo z neho robí prístupnú oblasť pre nových absolventov a ľudí meniacich profesiu.\n",
        "    * **Univerzálna potreba AI:** Bez ohľadu na veľkosť spoločnosti, AI talent je v roku 2025 vysoko žiadaný, čo zdôrazňuje, že AI transformácia prebieha naprieč celým podnikovým spektrom.\n",
        "    * **Rozdiel medzi mzdou a dopytom:** Zatiaľ čo mzdy sa líšia podľa veľkosti firmy, dopyt po AI odborníkoch je konštantný bez ohľadu na veľkosť spoločnosti.\n",
        "\n",
        "* **Časové trendy:**\n",
        "    * Priemerné mzdy v AI sektore vykazujú mierny, ale konzistentný nárast z roku 2024 na rok 2025, odrážajúc tak neustály rast a zhodnocovanie AI profesionálov na globálnom trhu.\n",
        "\n",
        "Celkovo táto analýza potvrdzuje, že trh práce v oblasti AI a ML je vysoko dynamický a konkurencieschopný. Pre jednotlivcov je dôležité neustále si rozširovať zručnosti a chápať trhové trendy, zatiaľ čo pre spoločnosti je kľúčové ponúkať atraktívne kompenzácie a prostredie na prilákanie top talentov.\n",
        "\n",
        "**Ďalšie kroky a budúce analýzy by mohli zahŕňať:**\n",
        "* Hlbšiu analýzu korelácie medzi `benefits_score` a inými faktormi.\n",
        "* Detailnejšiu analýzu `job_description_length` vo vzťahu k dopytu alebo mzdám.\n",
        "* Vytvorenie predikčného modelu na odhad miezd na základe viacerých vstupných premenných.\n",
        "* Ak by sa v budúcnosti objavili viacročné dáta, mohla by sa vykonať analýza dlhodobých trendov."
      ],
      "metadata": {
        "id": "JT2Udil2qAMq"
      }
    }
  ]
}