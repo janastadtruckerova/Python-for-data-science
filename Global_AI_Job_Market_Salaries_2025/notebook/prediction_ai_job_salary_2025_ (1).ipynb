{
  "nbformat": 4,
  "nbformat_minor": 0,
  "metadata": {
    "colab": {
      "provenance": []
    },
    "kernelspec": {
      "name": "python3",
      "display_name": "Python 3"
    },
    "language_info": {
      "name": "python"
    }
  },
  "cells": [
    {
      "cell_type": "markdown",
      "source": [
        "## **Predikcia Platov v AI Sektore Pomocou Strojového učenia**"
      ],
      "metadata": {
        "id": "oRUWH42yfihv"
      }
    },
    {
      "cell_type": "markdown",
      "source": [
        "\n",
        "\n",
        "**Abstrakt:**  \n",
        "V tomto projekte som vytvorila a porovnala regresné modely (Lineárna regresia, Random Forest) na predikciu ročných platov v sektore umelej inteligencie. Notebook obsahuje kompletné fázy modelovania, interpretácie výsledkov pomocou SHAP a prototyp nasadenia modelu v Gradio.\n",
        "\n",
        "---\n",
        "\n",
        "# Obsah\n",
        "\n",
        "1. Úvod a Kontext Projektu  \n",
        "2. Načítanie dát a Import knižníc  \n",
        "3. Jednoduchá lineárna regresia  \n",
        "4. Viacnásobná lineárna regresia  \n",
        "5. Rozšírená viacnásobná regresia  \n",
        "6. Random Forest model  \n",
        "7. Interpretácia modelov – SHAP  \n",
        "8. Porovnanie modelov  \n",
        "9. Gradio aplikácia  \n",
        "10. Zhrnutie, záver a odporúčania  \n"
      ],
      "metadata": {
        "id": "oI3HQyQneRil"
      }
    },
    {
      "cell_type": "markdown",
      "source": [
        "\n",
        "## 1. Úvod a Kontext Projektu\n",
        "\n",
        "Tento projekt sa zameriava na vytvorenie, vyhodnotenie a porovnanie regresných modelov strojového učenia (konkrétne **Lineárna Regresia** a **Random Forest**) pre **predikciu ročných platov v sektore umelej inteligencie**. Cieľom je nielen dosiahnuť čo najpresnejšie predpovede, ale aj porozumieť kľúčovým faktorom, ktoré ovplyvňujú výšku platu.\n",
        "\n",
        "Notebook sa detailne venuje fázam **modelovania, predikcie a interpretácie výsledkov**, ako aj **prototypovaniu nasadenia modelu** pomocou knižnice Gradio.\n",
        "\n",
        "Vychádza z komplexnej analýzy trhu práce v AI sektore, ktorá je detailne popísaná a vizualizovaná v súvisiacom notebooku [ Global AI job market.ipynb](AI%20job%20market.ipynb).\n",
        "\n",
        "---"
      ],
      "metadata": {
        "id": "qlBEHmUofyWg"
      }
    },
    {
      "cell_type": "markdown",
      "metadata": {
        "id": "34a83058"
      },
      "source": [
        "##  2. Načítanie dát a import potrebných knižníc\n",
        "Prvým krokom je import nevyhnutných knižníc a načítanie  a dát zo súboru `ai_job.csv` a vytvorenie dataframe. Zobrazenie základných informácií o dataframe.\n"
      ]
    },
    {
      "cell_type": "code",
      "metadata": {
        "id": "28ed0b81"
      },
      "source": [
        "# Základné knižnice\n",
        "import pandas as pd\n",
        "import numpy as np\n",
        "from sklearn.metrics import mean_absolute_error, mean_squared_error, r2_score\n",
        "import matplotlib.pyplot as plt\n",
        "import seaborn as sns\n",
        "\n",
        "# Modelovanie\n",
        "from sklearn.model_selection import train_test_split\n",
        "from sklearn.linear_model import LinearRegression\n",
        "from sklearn.ensemble import RandomForestRegressor\n",
        "\n",
        "# Vyhodnotenie\n",
        "from sklearn.metrics import mean_squared_error, r2_score\n",
        "\n",
        "# Interpretácia\n",
        "import shap\n",
        "\n",
        "# Načítanie dát\n",
        "df = pd.read_csv(\"ai_job.csv\")\n",
        "df.info()"
      ],
      "execution_count": null,
      "outputs": []
    },
    {
      "cell_type": "markdown",
      "metadata": {
        "id": "3e86da5d"
      },
      "source": [
        "## 3. Jednoduchá Lineárna Regresia\n",
        "Začíname s najjednoduchším modelom, kde sa pokúsime predpovedať plat (`salary_usd`) iba na základe jednej premennej – pomeru práce na diaľku (`remote_ratio`). Očakávame, že tento model nebude veľmi presný, ale slúži ako dobrý základ pre porovnanie."
      ]
    },
    {
      "cell_type": "code",
      "metadata": {
        "id": "82f023e6"
      },
      "source": [
        "# Príprava dát pre jednoduchú lineárnu regresiu\n",
        "X_simple = df[['remote_ratio']]\n",
        "y_simple = df['salary_usd']\n",
        "\n",
        "# Rozdelenie dát\n",
        "X_train_simple, X_test_simple, y_train_simple, y_test_simple = train_test_split(X_simple, y_simple, test_size=0.2, random_state=42)\n",
        "\n",
        "# Trénovanie modelu\n",
        "model_simple = LinearRegression()\n",
        "model_simple.fit(X_train_simple, y_train_simple)\n",
        "\n",
        "# Predikcia a vyhodnotenie\n",
        "y_pred_simple = model_simple.predict(X_test_simple)\n",
        "r2_simple = r2_score(y_test_simple, y_pred_simple)\n",
        "mae_simple = mean_absolute_error(y_test_simple, y_pred_simple)\n",
        "rmse_simple = np.sqrt(mean_squared_error(y_test_simple, y_pred_simple))\n",
        "\n",
        "print(\"--- Výsledky Jednoduchej Lineárnej Regresie ---\")\n",
        "print(f\"R-squared (R²): {r2_simple:.4f}\")\n",
        "print(f\"Mean Absolute Error (MAE): {mae_simple:,.2f} USD\")\n",
        "print(f\"Root Mean Squared Error (RMSE): {rmse_simple:,.2f} USD\")"
      ],
      "execution_count": null,
      "outputs": []
    },
    {
      "cell_type": "markdown",
      "metadata": {
        "id": "ed098878"
      },
      "source": [
        "## 4. Viacnásobná Lineárna Regresia\n",
        "Teraz model rozšírime o ďalšie relevantné kategorické premenné: `experience_level`, `company_size` a `employment_type`.  Model jednoduchej lineárnej regresie nebol dostatočne presný, takže sme pridali ďalšie premnné.Tieto premenné musíme najprv transformovať pomocou One-Hot Encodingu."
      ]
    },
    {
      "cell_type": "code",
      "metadata": {
        "id": "9bb6de92"
      },
      "source": [
        "# Príprava dát pre viacnásobnú lineárnu regresiu\n",
        "feature_cols_multi = ['experience_level', 'company_size', 'remote_ratio', 'employment_type']\n",
        "X_multi = df[feature_cols_multi]\n",
        "y_multi = df['salary_usd']\n",
        "\n",
        "# One-Hot Encoding\n",
        "X_multi_encoded = pd.get_dummies(X_multi, drop_first=True)\n",
        "\n",
        "# Rozdelenie dát\n",
        "X_train_multi, X_test_multi, y_train_multi, y_test_multi = train_test_split(X_multi_encoded, y_multi, test_size=0.2, random_state=42)\n",
        "\n",
        "# Trénovanie modelu\n",
        "model_multi = LinearRegression()\n",
        "model_multi.fit(X_train_multi, y_train_multi)\n",
        "\n",
        "# Predikcia a vyhodnotenie\n",
        "y_pred_multi = model_multi.predict(X_test_multi)\n",
        "r2_multi = r2_score(y_test_multi, y_pred_multi)\n",
        "mae_multi = mean_absolute_error(y_test_multi, y_pred_multi)\n",
        "rmse_multi = np.sqrt(mean_squared_error(y_test_multi, y_pred_multi))\n",
        "\n",
        "print(\"\\n--- Výsledky Viacnásobnej Lineárnej Regresie ---\")\n",
        "print(f\"R-squared (R²): {r2_multi:.4f}\")\n",
        "print(f\"Mean Absolute Error (MAE): {mae_multi:,.2f} USD\")\n",
        "print(f\"Root Mean Squared Error (RMSE): {rmse_multi:,.2f} USD\")"
      ],
      "execution_count": null,
      "outputs": []
    },
    {
      "cell_type": "markdown",
      "metadata": {
        "id": "db91bb08"
      },
      "source": [
        "## 5. Rozšírená Viacnásobná Lineárna Regresia\n",
        "Pre ešte lepšiu presnosť pridáme do modelu kľúčové premenné `job_title` a `company_location`. Tým sa výrazne zvýši počet features po One-Hot Encodingu."
      ]
    },
    {
      "cell_type": "code",
      "metadata": {
        "id": "aa6a0ce3"
      },
      "source": [
        "# Príprava dát pre rozšírenú viacnásobnú lineárnu regresiu\n",
        "feature_cols_expanded = ['experience_level', 'company_size', 'remote_ratio', 'employment_type', 'job_title', 'company_location']\n",
        "X_expanded = df[feature_cols_expanded]\n",
        "y_expanded = df['salary_usd']\n",
        "\n",
        "# One-Hot Encoding\n",
        "X_expanded_encoded = pd.get_dummies(X_expanded, drop_first=True)\n",
        "\n",
        "# Rozdelenie dát\n",
        "X_train_expanded, X_test_expanded, y_train_expanded, y_test_expanded = train_test_split(X_expanded_encoded, y_expanded, test_size=0.2, random_state=42)\n",
        "\n",
        "# Trénovanie modelu\n",
        "model_expanded = LinearRegression()\n",
        "model_expanded.fit(X_train_expanded, y_train_expanded)\n",
        "\n",
        "# Predikcia a vyhodnotenie\n",
        "y_pred_expanded = model_expanded.predict(X_test_expanded)\n",
        "r2_expanded = r2_score(y_test_expanded, y_pred_expanded)\n",
        "mae_expanded = mean_absolute_error(y_test_expanded, y_pred_expanded)\n",
        "rmse_expanded = np.sqrt(mean_squared_error(y_test_expanded, y_pred_expanded))\n",
        "\n",
        "print(\"\\n--- Výsledky Rozšírenej Viacnásobnej Lineárnej Regresie ---\")\n",
        "print(f\"R-squared (R²): {r2_expanded:.4f}\")\n",
        "print(f\"Mean Absolute Error (MAE): {mae_expanded:,.2f} USD\")\n",
        "print(f\"Root Mean Squared Error (RMSE): {rmse_expanded:,.2f} USD\")"
      ],
      "execution_count": null,
      "outputs": []
    },
    {
      "cell_type": "markdown",
      "metadata": {
        "id": "3167dc76"
      },
      "source": [
        "## 6. Random Forest Regressor\n",
        "Ako alternatívu k lineárnym modelom vyskúšame `RandomForestRegressor`. Tento model je založený na stromoch a dokáže lepšie zachytiť nelineárne vzťahy v dátach. Použijeme rovnakú sadu rozšírených features."
      ]
    },
    {
      "cell_type": "code",
      "metadata": {
        "id": "318d7dbf"
      },
      "source": [
        "# Trénovanie modelu Random Forest\n",
        "# n_jobs=-1 využije všetky dostupné jadrá procesora na zrýchlenie trénovania\n",
        "model_rf = RandomForestRegressor(n_estimators=100, random_state=42, n_jobs=-1)\n",
        "model_rf.fit(X_train_expanded, y_train_expanded)\n",
        "\n",
        "# Predikcia a vyhodnotenie\n",
        "y_pred_rf = model_rf.predict(X_test_expanded)\n",
        "r2_rf = r2_score(y_test_expanded, y_pred_rf)\n",
        "mae_rf = mean_absolute_error(y_test_expanded, y_pred_rf)\n",
        "rmse_rf = np.sqrt(mean_squared_error(y_test_expanded, y_pred_rf))\n",
        "\n",
        "print(\"\\n--- Výsledky Random Forest Regressora ---\")\n",
        "print(f\"R-squared (R²): {r2_rf:.4f}\")\n",
        "print(f\"Mean Absolute Error (MAE): {mae_rf:,.2f} USD\")\n",
        "print(f\"Root Mean Squared Error (RMSE): {rmse_rf:,.2f} USD\")"
      ],
      "execution_count": null,
      "outputs": []
    },
    {
      "cell_type": "markdown",
      "source": [
        "# 7. SHAP Interpretácia modelu"
      ],
      "metadata": {
        "id": "DDCdqW-bdcIR"
      }
    },
    {
      "cell_type": "code",
      "source": [
        "import shap\n",
        "\n",
        "# Vytvoríme vzorku 10 riadkov zo testovacích dát\n",
        "sample = X_test_expanded.sample(10, random_state=42)\n",
        "\n",
        "# Vytvoríme explainer (ak ešte nemáš)\n",
        "explainer = shap.TreeExplainer(model_rf)\n",
        "\n",
        "# Vypočítame SHAP hodnoty pre vzorku\n",
        "shap_values = explainer.shap_values(sample)\n",
        "\n",
        "# Zobrazíme summary plot pre túto vzorku\n",
        "shap.summary_plot(shap_values, sample)\n"
      ],
      "metadata": {
        "id": "5MfAeyXSxScb"
      },
      "execution_count": null,
      "outputs": []
    },
    {
      "cell_type": "markdown",
      "metadata": {
        "id": "660affa6"
      },
      "source": [
        "## 8. Porovnanie Modelov a Výber Najlepšieho\n",
        "Teraz zhrnieme výsledky všetkých štyroch modelov do prehľadnej tabuľky a grafu, aby sme jednoznačne určili, ktorý model je najvýkonnejší."
      ]
    },
    {
      "cell_type": "code",
      "metadata": {
        "id": "f0dc1189"
      },
      "source": [
        "# Vytvorenie DataFrame s výsledkami\n",
        "results_data = {\n",
        "    'Model': [\n",
        "        '1. Jednoduchá Lineárna Regresia',\n",
        "        '2. Viacnásobná Lineárna Regresia',\n",
        "        '3. Rozšírená Lineárna Regresia',\n",
        "        '4. Random Forest Regressor'\n",
        "    ],\n",
        "    'R-squared (R²)': [r2_simple, r2_multi, r2_expanded, r2_rf],\n",
        "    'MAE (USD)': [mae_simple, mae_multi, mae_expanded, mae_rf],\n",
        "    'RMSE (USD)': [rmse_simple, rmse_multi, rmse_expanded, rmse_rf]\n",
        "}\n",
        "results_df = pd.DataFrame(results_data)\n",
        "\n",
        "print(\"--- Celkové Porovnanie Výkonnosti Modelov ---\")\n",
        "display(results_df.style.format({\n",
        "    'R-squared (R²)': '{:.4f}',\n",
        "    'MAE (USD)': '{:,.2f}',\n",
        "    'RMSE (USD)': '{:,.2f}'\n",
        "}).hide(axis=\"index\"))\n",
        "\n",
        "# Vizualizácia R-squared\n",
        "plt.figure(figsize=(10, 6))\n",
        "sns.barplot(x='R-squared (R²)', y='Model', data=results_df.sort_values('R-squared (R²)', ascending=False), palette='viridis')\n",
        "plt.title('Porovnanie R-squared (R²) Skóre Modelov', fontsize=16)\n",
        "plt.xlabel('R-squared (R²)', fontsize=12)\n",
        "plt.ylabel('Model', fontsize=12)\n",
        "plt.xlim(0, 1)\n",
        "plt.tight_layout()\n",
        "plt.show()\n",
        "\n",
        "print(\"\\nZáver porovnania: Random Forest Regressor dosiahol najvyššiu presnosť (R²), a preto je zvolený ako najlepší model.\")"
      ],
      "execution_count": null,
      "outputs": []
    },
    {
      "cell_type": "markdown",
      "metadata": {
        "id": "7b6b0cac"
      },
      "source": [
        "## 9. Interaktívny Prototyp s Gradio\n",
        "Pre najlepší model (`RandomForestRegressor`) vytvoríme jednoduchú webovú aplikáciu pomocou knižnice Gradio. To umožní komukoľvek jednoducho získať odhad platu zadaním potrebných parametrov."
      ]
    },
    {
      "cell_type": "code",
      "metadata": {
        "id": "4f3b3842"
      },
      "source": [
        "import gradio as gr\n",
        "import shap\n",
        "import matplotlib.pyplot as plt\n",
        "import io\n",
        "from PIL import Image\n",
        "import pandas as pd\n",
        "import numpy as np\n",
        "\n",
        "# Predpokladáme, že model_rf, X_expanded_encoded a explainer sú už definované\n",
        "\n",
        "unique_experience = sorted(df['experience_level'].unique())\n",
        "unique_company_size = sorted(df['company_size'].unique())\n",
        "unique_employment_type = sorted(df['employment_type'].unique())\n",
        "unique_job_title = sorted(df['job_title'].unique())\n",
        "unique_company_location = sorted(df['company_location'].unique())\n",
        "\n",
        "explainer = shap.TreeExplainer(model_rf)\n",
        "\n",
        "def predict_salary_with_shap(experience, size, remote, emp_type, title, location):\n",
        "    input_df = pd.DataFrame(columns=X_expanded_encoded.columns)\n",
        "    input_df.loc[0] = 0\n",
        "\n",
        "    input_df['remote_ratio'] = remote\n",
        "    if f'experience_level_{experience}' in input_df.columns:\n",
        "        input_df[f'experience_level_{experience}'] = 1\n",
        "    if f'company_size_{size}' in input_df.columns:\n",
        "        input_df[f'company_size_{size}'] = 1\n",
        "    if f'employment_type_{emp_type}' in input_df.columns:\n",
        "        input_df[f'employment_type_{emp_type}'] = 1\n",
        "    if f'job_title_{title}' in input_df.columns:\n",
        "        input_df[f'job_title_{title}'] = 1\n",
        "    if f'company_location_{location}' in input_df.columns:\n",
        "        input_df[f'company_location_{location}'] = 1\n",
        "\n",
        "    prediction = model_rf.predict(input_df)[0]\n",
        "\n",
        "    shap_values = explainer.shap_values(input_df)\n",
        "    shap_vals = shap_values[0]\n",
        "    feature_names = input_df.columns\n",
        "\n",
        "    # Vyber top 10 podľa absolútnej hodnoty SHAP\n",
        "    abs_shap_vals = np.abs(shap_vals)\n",
        "    top_indices = abs_shap_vals.argsort()[-10:][::-1]\n",
        "    top_features = feature_names[top_indices]\n",
        "    top_shap_vals = shap_vals[top_indices]\n",
        "\n",
        "    plt.figure(figsize=(8,6))\n",
        "    plt.bar(top_features, top_shap_vals)\n",
        "    plt.xticks(rotation=45, ha='right')\n",
        "    plt.ylabel(\"SHAP value (dopad na predikciu)\")\n",
        "    plt.title(\"Top 10 faktorov ovplyvňujúcich predikciu platu\")\n",
        "    plt.tight_layout()\n",
        "\n",
        "    buf = io.BytesIO()\n",
        "    plt.savefig(buf, format=\"png\")\n",
        "    plt.close()\n",
        "    buf.seek(0)\n",
        "    img = Image.open(buf)\n",
        "\n",
        "    return f\"Predpokladaný ročný plat: ${prediction:,.2f} USD\", img\n",
        "\n",
        "iface = gr.Interface(\n",
        "    fn=predict_salary_with_shap,\n",
        "    inputs=[\n",
        "        gr.Dropdown(unique_experience, label=\"Úroveň skúseností (Experience Level)\"),\n",
        "        gr.Dropdown(unique_company_size, label=\"Veľkosť firmy (Company Size)\"),\n",
        "        gr.Slider(0, 100, step=10, label=\"Práca na diaľku (% Remote)\"),\n",
        "        gr.Dropdown(unique_employment_type, label=\"Typ úväzku (Employment Type)\"),\n",
        "        gr.Dropdown(unique_job_title, label=\"Pracovná pozícia (Job Title)\"),\n",
        "        gr.Dropdown(unique_company_location, label=\"Lokalita firmy (Company Location)\")\n",
        "    ],\n",
        "    outputs=[gr.Textbox(label=\"Odhadovaný plat\"), gr.Image(type=\"pil\", label=\"Interpretácia SHAP\")],\n",
        "    title=\"Prediktor Platov v AI Sektore s What-If analýzou\",\n",
        "    description=\"Zmeňte parametre a okamžite uvidíte predikovaný plat a vplyv jednotlivých faktorov.\",\n",
        "    allow_flagging='never'\n",
        ")\n",
        "\n",
        "iface.launch()\n"
      ],
      "execution_count": null,
      "outputs": []
    },
    {
      "cell_type": "code",
      "source": [],
      "metadata": {
        "id": "IhBlrme3PUjl"
      },
      "execution_count": null,
      "outputs": []
    },
    {
      "cell_type": "markdown",
      "source": [
        "##  10 Zhrnutie a Záver\n",
        "\n",
        "### Prehľad Vytvorených Modelov\n",
        "V tomto projekte sme postupne vytvorili a vyhodnotili štyri regresné modely na predikciu platov v AI sektore:\n",
        "1.  **Jednoduchá lineárna regresia:** Použila iba jednu premennú (`remote_ratio`) a ukázala sa ako nedostatočná (R² ≈ 0.0).\n",
        "2.  **Viacnásobná lineárna regresia:** Pridaním `experience_level`, `company_size` a `employment_type` sa výkon výrazne zlepšil (R² ≈ 0.64).\n",
        "3.  **Rozšírená viacnásobná lineárna regresia:** Zahrnutím `job_title` a `company_location` sa presnosť opäť dramaticky zvýšila (R² ≈ 0.85).\n",
        "4.  **Random Forest Regressor:** Tento pokročilejší model, trénovaný na rovnakej rozšírenej sade príznakov, dosiahol najlepšie výsledky.\n",
        "\n",
        "### Porovnanie a Výber Najlepšieho Modelu\n",
        "Na základe metrík výkonnosti (MAE, RMSE a R-squared) bol **Random Forest Regressor** jednoznačne identifikovaný ako najlepší model. S hodnotou **R² 0.8537** a najnižšou priemernou chybou (MAE: **16,142 USD**) poskytol najpresnejšie a najspoľahlivejšie predikcie.\n",
        "\n",
        "### Prototyp s Gradio\n",
        "Ako finálny krok sme vytvorili interaktívny prototyp pomocou knižnice **Gradio**. Táto webová aplikácia umožňuje používateľom zadať kľúčové atribúty pracovnej pozície (úroveň skúseností, veľkosť firmy, lokalita atď.) a okamžite získať odhadovaný ročný plat na základe nášho najlepšieho modelu (Random Forest)."
      ],
      "metadata": {
        "id": "lVQvaM2cLaDi"
      }
    },
    {
      "cell_type": "markdown",
      "metadata": {
        "id": "c187c785"
      },
      "source": [
        "## 11. Zhrnutie a Záverečné Odporúčania projektu\n",
        "\n",
        "### Zhrnutie Projektu\n",
        "V tomto projekte sme úspešne vytvorili a porovnali štyri regresné modely na predikciu platov. Zistili sme, že pridávanie relevantných príznakov dramaticky zvyšuje presnosť modelu. Najvýkonnejším sa ukázal **Random Forest Regressor**, ktorý dosiahol **R-squared 0.8537**, čo znamená, že dokáže vysvetliť približne 85.4% variability v platoch.\n",
        "\n",
        "### Návrhy na Ďalšie Kroky\n",
        "1.  **Optimalizácia Hyperparametrov:** Použiť techniky ako `GridSearchCV` alebo `RandomizedSearchCV` na nájdenie najlepších nastavení pre Random Forest, čím sa môže presnosť ešte mierne zvýšiť.\n",
        "2.  **Pokročilejší Feature Engineering:** Spracovať stĺpec `required_skills` a extrahovať kľúčové technológie (napr. Python, TensorFlow, PyTorch) ako samostatné príznaky.\n",
        "3.  **Vyskúšanie Iných Modelov:** Experimentovať s modelmi ako **XGBoost** alebo **LightGBM**, ktoré sú často ešte výkonnejšie pre tabuľkové dáta.\n",
        "4.  **Nasadenie do Produkcie:** Pripraviť model na reálne nasadenie pomocou nástrojov ako **Docker** a **FastAPI** a hosťovať ho na cloudovej platforme."
      ]
    }
  ]
}