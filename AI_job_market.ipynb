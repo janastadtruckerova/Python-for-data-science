{
  "nbformat": 4,
  "nbformat_minor": 0,
  "metadata": {
    "colab": {
      "provenance": [],
      "authorship_tag": "ABX9TyOwreVZuUg7+mYbjwNzphLc",
      "include_colab_link": true
    },
    "kernelspec": {
      "name": "python3",
      "display_name": "Python 3"
    },
    "language_info": {
      "name": "python"
    }
  },
  "cells": [
    {
      "cell_type": "markdown",
      "metadata": {
        "id": "view-in-github",
        "colab_type": "text"
      },
      "source": [
        "<a href=\"https://colab.research.google.com/github/janastadtruckerova/Python-for-data-science/blob/main/AI_job_market.ipynb\" target=\"_parent\"><img src=\"https://colab.research.google.com/assets/colab-badge.svg\" alt=\"Open In Colab\"/></a>"
      ]
    },
    {
      "cell_type": "markdown",
      "source": [
        "# **Projekt: Analýza Vplyvu AI a Automatizácie na Pracovné Pozície**"
      ],
      "metadata": {
        "id": "k9Z99OJ_7nHu"
      }
    },
    {
      "cell_type": "markdown",
      "source": [
        "# Cieľ projektu"
      ],
      "metadata": {
        "id": "Bd9Y4P4L8RmE"
      }
    },
    {
      "cell_type": "markdown",
      "source": [
        "Tento projekt  umožní preskúmať vplyv AI a automatizácie na rôzne pracovné pozície, odvetvia a zručnosti. Budeme  identifikovať, ktoré pozície sú najviac ohrozené, ktoré vznikajú a aké zručnosti sú žiadané v AI ére.\n",
        "\n",
        "Cieľ projektu: Preskúmať dataset, identifikovať a vizualizovať vzťahy medzi úrovňou prijatia AI, rizikom automatizácie, potrebnými zručnosťami a rastovými projekciami pre rôzne typy pracovných pozícií a odvetví."
      ],
      "metadata": {
        "id": "cu8V_aivCxxb"
      }
    },
    {
      "cell_type": "markdown",
      "source": [
        "# Dataset"
      ],
      "metadata": {
        "id": "R9qYsJuwEtlj"
      }
    },
    {
      "cell_type": "markdown",
      "source": [
        "Použitý dataset\n",
        "AI-Powered Job Market Insights\n",
        "a synthetic but realistic snapshot of the modern job market on the role of AI\n",
        "link na dataset: https://www.kaggle.com/datasets/uom190346a/ai-powered-job-market-insights"
      ],
      "metadata": {
        "id": "svWQ_EDCE3yz"
      }
    },
    {
      "cell_type": "markdown",
      "source": [
        "# 1. Načítanie a úvodné preskúmanie dát (Pandas a EDA Základy)"
      ],
      "metadata": {
        "id": "anmIlkUv72Di"
      }
    },
    {
      "cell_type": "code",
      "execution_count": null,
      "metadata": {
        "id": "i6BWyffzpRxw"
      },
      "outputs": [],
      "source": [
        "# Import knižníc\n",
        "\n",
        "import pandas as pd\n",
        "import numpy as np\n",
        "import matplotlib.pyplot as plt\n",
        "import seaborn as sns"
      ]
    },
    {
      "cell_type": "markdown",
      "source": [
        "Načítanie dát z csv súboru a preskúmanie dát"
      ],
      "metadata": {
        "id": "JplvVnPIpy16"
      }
    },
    {
      "cell_type": "code",
      "source": [
        "# Načítanie datasetu\n",
        "df = pd.read_csv(\"ai_job_market_insights.csv\")\n",
        "# Základné info o datasete\n",
        "df.info()"
      ],
      "metadata": {
        "id": "Ct5QaIjkp2CI"
      },
      "execution_count": null,
      "outputs": []
    },
    {
      "cell_type": "code",
      "source": [
        "# Prvých 5 riadkov datasetu\n",
        "df.head()"
      ],
      "metadata": {
        "id": "2rKVltDg4-K9"
      },
      "execution_count": null,
      "outputs": []
    },
    {
      "cell_type": "markdown",
      "source": [
        "# 2. Čistenie a príprava dát (Pandas)"
      ],
      "metadata": {
        "id": "ndMLxwnSD-Kj"
      }
    },
    {
      "cell_type": "markdown",
      "source": [
        "Zmena dátových typov premenných"
      ],
      "metadata": {
        "id": "S9UqJw2gJtM_"
      }
    },
    {
      "cell_type": "code",
      "source": [
        "\n",
        "# 1. AI_Adoption_Level\n",
        "ai_adoption_order = ['Low', 'Medium', 'High']\n",
        "df['AI_Adoption_Level'] = pd.Categorical(\n",
        "    df['AI_Adoption_Level'],\n",
        "    categories=ai_adoption_order,\n",
        "    ordered=True\n",
        ")\n",
        "# 2. Automation_Risk\n",
        "automation_risk_order = ['Low', 'Medium', 'High']\n",
        "df['Automation_Risk'] = pd.Categorical(\n",
        "    df['Automation_Risk'],\n",
        "    categories=automation_risk_order,\n",
        "    ordered=True\n",
        ")\n",
        "# 3. Job_Growth_Projection\n",
        "\n",
        "job_growth_order = ['Decline', 'Stable', 'Growth', 'High Growth']\n",
        "df['Job_Growth_Projection'] = pd.Categorical(\n",
        "    df['Job_Growth_Projection'],\n",
        "    categories=job_growth_order,\n",
        "    ordered=True\n",
        ")\n",
        "\n",
        "# 4. Remote_Friendly\n",
        "remote_mapping = {'Yes': True, 'No': False}\n",
        "df['Remote_Friendly'] = df['Remote_Friendly'].map(remote_mapping).astype(bool)\n",
        "\n",
        "# 5. Company_Size\n",
        "company_size_order = ['Small', 'Medium', 'Large']\n",
        "df['Company_Size'] = pd.Categorical(\n",
        "    df['Company_Size'],\n",
        "    categories=company_size_order,\n",
        "    ordered=True\n",
        ")\n",
        "\n",
        "# 6. Industry, Location (voliteľné pre kategóriu, ak majú obmedzený počet unikátnych hodnôt)\n",
        "df['Industry'] = df['Industry'].astype('category')\n",
        "df['Location'] = df['Location'].astype('category')\n",
        "\n",
        "# Salary_USD (už float64) a Job_Title, Required_Skills (object) sú v poriadku tak, ako sú.\n",
        "\n",
        "print(\"\\nNové Dtypes po spracovaní:\")\n",
        "print(df.info())\n",
        "\n",
        "print(\"\\nUkážka DataFrame po konverzii:\")\n",
        "print(df.head())"
      ],
      "metadata": {
        "id": "gOit2LajEHeM"
      },
      "execution_count": null,
      "outputs": []
    },
    {
      "cell_type": "markdown",
      "source": [
        "# 3. Exploračná analýza dát (EDA) a Vizualizácie (Matplotlib a Seaborn)"
      ],
      "metadata": {
        "id": "Y88AfGQqEIOr"
      }
    },
    {
      "cell_type": "markdown",
      "source": [
        " Rozdelenie úrovne adaptácie AI"
      ],
      "metadata": {
        "id": "DUkaSwYijfna"
      }
    },
    {
      "cell_type": "code",
      "source": [
        "# AI adaptation level\n",
        "\n",
        "# Spočítanie výskytov\n",
        "df_counts = df['AI_Adoption_Level'].value_counts()\n",
        "print(\"\\nPočet výskytov jednotlivých druhov (df_counts):\\n\", df_counts)\n",
        "\n",
        "# Vizualizácia pomocou  knižnice Seaborn\n",
        "plt.figure(figsize=(8, 5))\n",
        "sns.countplot(data=df, x='AI_Adoption_Level', palette='viridis')\n",
        "plt.title('Rozdelenie úrovne adaptácie AI')\n",
        "plt.xlabel('Úroveň adaptácie AI')\n",
        "plt.ylabel('Počet výskytov')\n",
        "plt.grid(axis='y', linestyle='--', alpha=0.7)\n",
        "plt.show()\n"
      ],
      "metadata": {
        "id": "XuwJCq4FEWl6"
      },
      "execution_count": null,
      "outputs": []
    },
    {
      "cell_type": "markdown",
      "source": [
        "Riziko automatizácie - Ktorá kategória rizika dominuje?"
      ],
      "metadata": {
        "id": "totUHOcsjojp"
      }
    },
    {
      "cell_type": "code",
      "source": [
        "# Celkové riziko automatizácie\n",
        "# Spočítanie výskytov (dobrý krok pre kontrolu, Seaborn to urobí aj automaticky)\n",
        "df_counts = df['Automation_Risk'].value_counts() # Opravená medzera v názve stĺpca\n",
        "print(\"\\nPočet výskytov jednotlivých úrovní rizika automatizácie (df_counts):\\n\", df_counts)\n",
        "# Vizualizácia pomocou  knižnice Seaborn\n",
        "plt.figure(figsize=(8, 5))\n",
        "sns.countplot(data=df, x='Automation_Risk', palette='viridis') # Opravená medzera v názve stĺpca\n",
        "plt.title('Rozdelenie úrovne rizika automatizácie')\n",
        "plt.xlabel('Úroveň rizika automatizácie') # Opravená medzera v názve stĺpca\n",
        "plt.ylabel('Počet výskytov')\n",
        "plt.grid(axis='y', linestyle='--', alpha=0.7)\n",
        "plt.show()"
      ],
      "metadata": {
        "id": "aOa4Ew_YBGa7"
      },
      "execution_count": null,
      "outputs": []
    },
    {
      "cell_type": "markdown",
      "source": [
        "Riziko automatizácia podľa jednotlivých pracovných pozícií - Ktoré pozície sú najviac ohrozené automatizáciou?"
      ],
      "metadata": {
        "id": "D0kd4_8hjzIv"
      }
    },
    {
      "cell_type": "code",
      "source": [
        "# Riziko automatizácie podľa pracovných pozícií\n",
        "\n",
        "\n",
        "# Top 5 pozícií pre každú kategóriu rizika\n",
        "top_n = 5 # top pozícií pre každé riziko\n",
        "\n",
        "# Zoskupenie dát podľa rizika automatizácie a názvu pozície, počet pozícií\n",
        "job_risk_counts = df.groupby(['Automation_Risk', 'Job_Title']).size().reset_index(name='Count')\n",
        "\n",
        "# Pre každú kategóriu rizika vyberieme top 5 pozícií\n",
        "top_jobs_per_risk = job_risk_counts.groupby('Automation_Risk').apply(\n",
        "    lambda x: x.nlargest(top_n, 'Count')\n",
        ").reset_index(drop=True)\n",
        "\n",
        "print(\"Top pozície v každej kategórii rizika automatizácie:\")\n",
        "print(top_jobs_per_risk)\n",
        "print(\"-\" * 50)\n",
        "\n",
        "# Vizualizácia pomocou FacetGrid\n",
        "\n",
        "# FacetGrid\n",
        "# Každá kategória rizika má vlastný podgraf s top pozíciami\n",
        "plt.figure(figsize=(15, 6))\n",
        "g = sns.catplot(\n",
        "    data=top_jobs_per_risk,\n",
        "    x='Job_Title',\n",
        "    y='Count',\n",
        "    col='Automation_Risk',\n",
        "    kind='bar',\n",
        "    col_wrap=3,\n",
        "    height=4, aspect=1.2,\n",
        "    palette='viridis',\n",
        "    sharey=False,\n",
        "    order=top_jobs_per_risk.sort_values(by=['Automation_Risk', 'Count'], ascending=[True, False]).Job_Title\n",
        ")\n",
        "g.set_axis_labels(\"Pracovná pozícia\", \"Počet výskytov\")\n",
        "g.set_titles(\"Riziko: {col_name}\")\n",
        "g.set_xticklabels(rotation=45, ha='right') # Natoč popisky X-ovej osi pre lepšiu čitateľnosť\n",
        "plt.suptitle('Top pracovné pozície podľa rizika automatizácie', y=1.02, fontsize=16) # Celkový názov\n",
        "plt.tight_layout(rect=[0, 0.03, 1, 0.98]) # Uprav rozloženie, aby sa názvy neprekrývali\n",
        "plt.show()\n",
        "\n",
        "\n"
      ],
      "metadata": {
        "id": "_WnXLILC-Nm1"
      },
      "execution_count": null,
      "outputs": []
    },
    {
      "cell_type": "markdown",
      "source": [
        "Riziko automatizácie podľa odvetví - Kotré odvetvia sú najviac ohrozené automatizáciou?"
      ],
      "metadata": {
        "id": "gWzOhKiNkOXj"
      }
    },
    {
      "cell_type": "code",
      "source": [
        "\n",
        "\n",
        "# Top 5 odvetví pre každú kategóriu rizika\n",
        "top_n = 5 # Koľko top odvetví chceš zobraziť pre každé riziko\n",
        "\n",
        "# Zoskupenie dát podľa rizika automatizácie a odvetvia, počet odvetví v jednotlivých úrovniach\n",
        "industry_risk_counts = df.groupby(['Automation_Risk', 'Industry']).size().reset_index(name='Count')\n",
        "\n",
        "# Pre každú kategóriu rizika vyberieme top 5 odvetví\n",
        "top_industry_per_risk = industry_risk_counts.groupby('Automation_Risk').apply(\n",
        "    lambda x: x.nlargest(top_n, 'Count')\n",
        ").reset_index(drop=True)\n",
        "\n",
        "print(\"Top odvetvia v každej kategórii rizika automatizácie:\")\n",
        "print(top_industry_per_risk)\n",
        "print(\"-\" * 50)\n",
        "\n",
        "# Vizualizácia pomocou FacetGrid\n",
        "\n",
        "# Každá kategória rizika má vlastný podgraf s top odvetviami\n",
        "plt.figure(figsize=(15, 6)) # Zväčši celkovú veľkosť pre viac grafov\n",
        "\n",
        "g = sns.catplot(\n",
        "    data=top_industry_per_risk,\n",
        "    x='Industry',\n",
        "    y='Count',\n",
        "    col='Automation_Risk',\n",
        "    kind='bar',\n",
        "    col_wrap=3,\n",
        "    height=4, aspect=1.2,\n",
        "    palette='viridis',\n",
        "    sharey=False,\n",
        "    #Zoradenie odvetvia v rámci každého grafu podľa ich počtu\n",
        "    order=top_industry_per_risk.sort_values(by=['Automation_Risk', 'Count'], ascending=[True, False])['Industry']\n",
        ")\n",
        "\n",
        "g.set_axis_labels(\"Odvetvie\", \"Počet výskytov\")\n",
        "g.set_titles(\"Riziko: {col_name}\")\n",
        "g.set_xticklabels(rotation=45, ha='right')\n",
        "plt.suptitle('Top odvetvia podľa rizika automatizácie', y=1.02, fontsize=16)\n",
        "plt.tight_layout(rect=[0, 0.03, 1, 0.98])\n",
        "plt.show()"
      ],
      "metadata": {
        "id": "kjY0279jAgc6"
      },
      "execution_count": null,
      "outputs": []
    },
    {
      "cell_type": "markdown",
      "source": [
        "Rast pozícií - Sú firmy s vššou mierou adaptácie AI - vyšší rast pozícií"
      ],
      "metadata": {
        "id": "J_REVgK4kgZZ"
      }
    },
    {
      "cell_type": "code",
      "source": [
        "\n",
        "# Vytvorenie stĺpcového grafu\n",
        "\n",
        "plt.figure(figsize=(12, 7))\n",
        "sns.countplot(\n",
        "    data=df,\n",
        "    x='AI_Adoption_Level',\n",
        "    hue='Job_Growth_Projection',\n",
        "    palette='viridis',\n",
        "    edgecolor='black'\n",
        ")\n",
        "\n",
        "plt.title('Rozdelenie projekcie rastu pozícií podľa úrovne adaptácie AI', fontsize=16)\n",
        "plt.xlabel('Úroveň adaptácie AI', fontsize=12)\n",
        "plt.ylabel('Počet pozícií', fontsize=12)\n",
        "\n",
        "plt.grid(axis='y', linestyle='--', alpha=0.7) # Pridá vodorovnú mriežku\n",
        "plt.legend(title='Projekcia rastu', bbox_to_anchor=(1.05, 1), loc='upper left')\n",
        "plt.tight_layout()\n",
        "plt.show()"
      ],
      "metadata": {
        "id": "dkcTIKJOEjgR"
      },
      "execution_count": null,
      "outputs": []
    },
    {
      "cell_type": "markdown",
      "source": [
        "Najčastejšie požadované zručnosti"
      ],
      "metadata": {
        "id": "Aj9KXQiBk5ti"
      }
    },
    {
      "cell_type": "code",
      "source": [
        "from collections import Counter\n",
        "\n",
        "#1. Extrahovanie a spočítanie jednotlivých zručností (jednoduchšie)\n",
        "\n",
        "# Prevedie stĺpec na malé písmená a rozdelí ho.\n",
        "# .str.lower(): Všetko na malé písmená.\n",
        "# .str.split(',\\s*'): Rozdelí reťazec podľa čiarky a ľubovoľného počtu medzier za ňou.\n",
        "# .explode(): Prevedie zoznamy v bunkách na samostatné riadky.\n",
        "# .str.strip(): Odstráni prípadné medzery na začiatku/konci každej zručnosti.\n",
        "all_skills = df['Required_Skills'].str.lower().str.split(',\\s*').explode().str.strip()\n",
        "\n",
        "# Odstránenie prázdnych reťazccou, ktoré mohli vzniknúť, ak bol niekde \"  ,  \"\n",
        "all_skills = all_skills[all_skills != '']\n",
        "\n",
        "# Odstránenie NaN hodnôt\n",
        "all_skills = all_skills.dropna()\n",
        "\n",
        "# Frekvencia zručností\n",
        "skill_counts = Counter(all_skills)\n",
        "\n",
        "# Konvertovanie na DataFrame pre vizualizáciu\n",
        "skill_counts_df = pd.DataFrame(skill_counts.items(), columns=['Skill', 'Count'])\n",
        "\n",
        "# Zoradenie od najčastejšej po najmenej častú hodnotu\n",
        "skill_counts_df = skill_counts_df.sort_values(by='Count', ascending=False)\n",
        "\n",
        "print(\"Top 20 najčastejších zručností (jednoduchý prístup):\")\n",
        "print(skill_counts_df.head(20))\n",
        "\n",
        "# 2. Vizualizácia Top 5 zručností\n",
        "\n",
        "top_n_skills = 20 # Koľko najčastejších zručností chceme zobraziť\n",
        "most_common_skills = skill_counts_df.head(top_n_skills)\n",
        "\n",
        "plt.figure(figsize=(12, 8))\n",
        "\n",
        "sns.barplot(\n",
        "    data=most_common_skills,\n",
        "    x='Count',\n",
        "    y='Skill',\n",
        "    palette='viridis',\n",
        "    edgecolor='black'\n",
        ")\n",
        "\n",
        "plt.title(f'Top {top_n_skills} najčastejšie požadovaných zručností', fontsize=16)\n",
        "plt.xlabel('Počet výskytov', fontsize=12)\n",
        "plt.ylabel('Zručnosť', fontsize=12)\n",
        "plt.grid(axis='x', linestyle='--', alpha=0.7)\n",
        "plt.tight_layout()\n",
        "plt.show()\n"
      ],
      "metadata": {
        "id": "G-VA2mU9GJdb"
      },
      "execution_count": null,
      "outputs": []
    },
    {
      "cell_type": "markdown",
      "source": [
        "Korelácie"
      ],
      "metadata": {
        "id": "fVFUc65hlFJo"
      }
    },
    {
      "cell_type": "markdown",
      "source": [
        "Vzťah medzi AI_Adoption_Level a Job_Growth_Projection"
      ],
      "metadata": {
        "id": "uT-imFYxlWMR"
      }
    },
    {
      "cell_type": "code",
      "source": [
        "# Kontingenčná tabuľka\n",
        "cross_tab = pd.crosstab(df['AI_Adoption_Level'], df['Job_Growth_Projection'])\n",
        "print(\"Kontingenčná tabuľka AI_Adoption_Level vs Job_Growth_Projection:\\n\", cross_tab)\n",
        "# Heatmap\n",
        "plt.figure(figsize=(9, 6))\n",
        "sns.heatmap(cross_tab, annot=True, fmt='d', cmap='YlGnBu', linewidths=.5)\n",
        "plt.title('Vzťah medzi adaptáciou AI a projekciou rastu pozícií')\n",
        "plt.xlabel('Projekcia rastu pozícií')\n",
        "plt.ylabel('Úroveň adaptácie AI')\n",
        "plt.show()"
      ],
      "metadata": {
        "id": "mEr4SXyllJoD"
      },
      "execution_count": null,
      "outputs": []
    },
    {
      "cell_type": "markdown",
      "source": [
        "Vzťah medzi Required_Skills a Salary_USD"
      ],
      "metadata": {
        "id": "m5rNWsvimZha"
      }
    },
    {
      "cell_type": "code",
      "source": [
        "\n",
        "df_skills_exploded = df.assign(\n",
        "    Required_Skill_Individual=df['Required_Skills'].str.lower().str.split(',\\s*')\n",
        ").explode('Required_Skill_Individual')\n",
        "\n",
        "df_skills_exploded['Required_Skill_Individual'] = df_skills_exploded['Required_Skill_Individual'].str.strip()\n",
        "\n",
        "# Odstránenie prázdne zručnosti\n",
        "df_skills_exploded = df_skills_exploded[df_skills_exploded['Required_Skill_Individual'] != '']\n",
        "df_skills_exploded = df_skills_exploded.dropna(subset=['Required_Skill_Individual'])\n",
        "\n",
        "\n",
        "# Vypočet priemernej mzdy pre každú zručnosť\n",
        "avg_salary_per_skill = df_skills_exploded.groupby('Required_Skill_Individual')['Salary_USD'].mean().reset_index()\n",
        "avg_salary_per_skill = avg_salary_per_skill.sort_values(by='Salary_USD', ascending=False)\n",
        "avg_salary_per_skill['Salary_USD'] = avg_salary_per_skill['Salary_USD'].round(2)\n",
        "\n",
        "print(\"Priemerné mzdy pre top 10 zručností:\")\n",
        "print(avg_salary_per_skill.head(10))\n",
        "\n",
        "# Vizualizácia Top 15 zručností podľa priemernej mzdy\n",
        "top_n_salary_skills = 15 # Koľko zručností s najvyššou mzdou chcem zobraziť\n",
        "most_lucrative_skills = avg_salary_per_skill.head(top_n_salary_skills)\n",
        "\n",
        "plt.figure(figsize=(12, 8))\n",
        "sns.barplot(\n",
        "    data=most_lucrative_skills,\n",
        "    x='Salary_USD',\n",
        "    y='Required_Skill_Individual',\n",
        "    palette='magma', # Iná paleta farieb\n",
        "    edgecolor='black'\n",
        ")\n",
        "plt.title(f'Top {top_n_salary_skills} najlepšie platených zručností (Priemerná mzda)', fontsize=16)\n",
        "plt.xlabel('Priemerná mzda (USD)', fontsize=12)\n",
        "plt.ylabel('Zručnosť', fontsize=12)\n",
        "plt.grid(axis='x', linestyle='--', alpha=0.7)\n",
        "plt.tight_layout()\n",
        "plt.show()"
      ],
      "metadata": {
        "id": "GDvLHFErmTv8"
      },
      "execution_count": null,
      "outputs": []
    },
    {
      "cell_type": "markdown",
      "source": [
        "Vzťah medzi Automation_Risk (riziko automatizácie) a Job_Growth_Projection (projekcia rastu pozícií)"
      ],
      "metadata": {
        "id": "OHN3N0YFmzSE"
      }
    },
    {
      "cell_type": "code",
      "source": [
        "\n",
        "# Vytvorenie kontingenčnej tabuľky\n",
        "cross_tab_risk_growth = pd.crosstab(df['Automation_Risk'], df['Job_Growth_Projection'])\n",
        "print(\"Kontingenčná tabuľka Automation_Risk vs Job_Growth_Projection:\\n\", cross_tab_risk_growth)\n",
        "# Heatmap\n",
        "plt.figure(figsize=(10, 7))\n",
        "sns.heatmap(cross_tab_risk_growth, annot=True, fmt='d', cmap='Blues', linewidths=.5)\n",
        "plt.title('Vzťah medzi rizikom automatizácie a projekciou rastu pozícií', fontsize=16)\n",
        "plt.xlabel('Projekcia rastu pozícií', fontsize=12)\n",
        "plt.ylabel('Riziko automatizácie', fontsize=12)\n",
        "plt.show()"
      ],
      "metadata": {
        "id": "UfwLWAlYm8Js"
      },
      "execution_count": null,
      "outputs": []
    },
    {
      "cell_type": "markdown",
      "source": [
        "# 4. Zhrnutie kľúčových zistení a záver."
      ],
      "metadata": {
        "id": "qTvSh_EEEXn5"
      }
    },
    {
      "cell_type": "markdown",
      "source": [
        "Cieľom projektu bolo preskúmať vplyv AI a automatizácie na rôzne pracovné pozície, odvetvia a zručnosti. Podarilo sa identifikovať, pozície ktoré  sú najviac ohrozené automatizáciou, a aké zručnosti sú žiadané v AI ére.\n",
        "\n",
        "Kľúčové zistenia:\n",
        "\n",
        "1. **Úroveň adaptácie AI v analyzovaných spoločnostiach:**\n",
        "\n",
        "Analýza distribúcie úrovne adaptácie AI (Artificial Intelligence) vo firmách, zahrnutých v datasete, ukázala, že prevažná väčšina spoločností sa už aktívne podieľa na integrácii AI. Konkrétne, najvyšší podiel firiem spadá do kategórie strednej adaptácie AI (179 firiem), čo naznačuje aktívne experimentovanie a implementáciu AI riešení. Takmer rovnako silno je zastúpená nízka úroveň adaptácie (174 firem), čo môže predstavovať buď začiatočné štádiá implementácie, alebo pomalší prístup k novým technológiám. Vysoká úroveň adaptácie AI (147 firem), hoci je zastúpená o niečo menej, stále tvorí významnú časť firiem, ukazujúc lídrov v integrácii AI. Tieto dáta celkovo poukazujú na vzrastajúcu penetráciu AI do rôznych odvetví a jej postupnú, no zreteľnú adopciu na trhu práce.\n",
        "\n",
        "2. **Riziko automatizácie a jeh ovplyv na pracovné pozície:**\n",
        "\n",
        "Analýza úrovne rizika automatizácie odhalila, že pracovné pozície v datasete sú rozložené pomerne rovnomerne naprieč kategóriami nízkeho, stredného a vysokého rizika. Najväčší podiel pozícií  173 spadá do kategórie stredného rizika automatizácie, značný počet pozícií (169) vykazuje vysoké riziko automatizácie. Pozície s nízkym rizikom automatizácie  sú tiež podstatne zastúpené 158 pozícií. Toto rovnomerné rozdelenie naznačuje, že vplyv automatizácie je širokospektrálny a dotýka sa rôznych segmentov trhu práce.\n",
        "\n",
        "**Detailnejší pohľad na top pracovné pozície v rámci každej kategórie rizika (ako je znázornené na grafe):**\n",
        "*Nízke riziko automatizácie:* V tejto kategórii dominujú pozície ako Data Scientist, Cybersecurity Analyst a Operations Manager. To naznačuje, že role vyžadujúce komplexné analytické myslenie, špecializované zabezpečenie a strategické riadenie sú v súčasnosti menej náchylné na úplnú automatizáciu. Zaujímavé je, že aj HR Manager sa objavuje medzi pozíciami s nízkym rizikom, čo podčiarkuje dôležitosť ľudského faktora a interpersonálnych zručností.\n",
        "\n",
        "*Stredné riziko automatizácie:* V kategórii stredného rizika sa výrazne presadzujú pozície ako UX Designer a Marketing Specialist. Tieto role pravdepodobne zažívajú čiastočnú automatizáciu rutinných úloh, no stále vyžadujú kreatívne myslenie a strategické rozhodovanie, ktoré je ťažké plne automatizovať. Je tu aj zastúpenie Data Scientist, čo môže naznačovať rôzne úrovne zamerania v rámci tejto širokej pozície.\n",
        "\n",
        "*Vysoké riziko automatizácie*: Pozície s vysokým rizikom zahŕňajú najmä role ako HR Manager, Marketing Specialist a AI Researcher. Prítomnosť HR Manager a Marketing Specialist v tejto kategórii, napriek ich výskytu aj v nižších rizikách, môže poukazovať na podskupiny týchto úloh, ktoré sú náchylnejšie na automatizáciu, alebo na to, že hoci základné strategické úlohy zostávajú, rutinné operácie sú ohrozené. Pozícia AI Researcher s vysokým rizikom je na prvý pohľad prekvapivá, no môže to reflektovať, že aj v tejto oblasti sa objavujú automatizované nástroje pre repetitívne úlohy vo výskume.\n",
        "\n",
        "Celkovo táto analýza zdôrazňuje, že riziko automatizácie nie je homogénne a líši sa aj v rámci podobných názvov pozícií, čo vyžaduje detailnejší pohľad na špecifické úlohy a zručnosti v rámci každej roly.\n",
        "\n",
        "3. **Najžiadanejšie zručnosti a ich vplyv na odmeňovanie:**\n",
        "Analýza požadovaných zručností na trhu práce, ovplyvnenom AI, odhalila jasné trendy v dopyte po špecifických expertízach. . **Medzi top 5 najčastejšie požadovaných zručností patria predovšetkým Python, Project Management, Cybersecurity, Machine Learning a Data Analysis**Toto naznačuje, že aj keď technické a dátovo orientované zručnosti dominujú, stále existuje silný dopyt po strategickom riadení a bezpečnostných aspektoch. Celkovo vysoký dopyt po týchto zručnostiach podčiarkuje posun smerom k dátovo riadeným rozhodnutiam, automatizácii a zároveň pretrvávajúcu dôležitosť efektívnej spolupráce a bezpečnosti v AI ére.\n",
        "\n",
        "Ešte dôležitejšie je, že tieto kľúčové zručnosti sa priamo premietajú do finančného ohodnotenia. Graf porovnávajúci zručnosti s priemernými mzdami jasne ukazuje, že najvyššie priemerné mzdy sú spojené so zručnosťami ako Javascript  98 000,90 USD, Python 94 839.04 USD) a Sales 93101.25 USD. Zručnosti ako Machine Learning a Project Management tiež patria medzi špičku s priemernými mzdami nad 90 000 USD. Toto zistenie naznačuje, že investícia do rozvoja týchto špecifických, AI-relevantných a zároveň dôležitých technologických a obchodných zručností je kľúčová pre kariérny rast a finančnú prosperitu v meniacom sa prostredí trhu práce.\"\n",
        "\n",
        "\n",
        "\n",
        "\n"
      ],
      "metadata": {
        "id": "DKdbIVCsrQZa"
      }
    }
  ]
}